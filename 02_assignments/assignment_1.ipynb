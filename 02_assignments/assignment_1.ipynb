{
 "cells": [
  {
   "cell_type": "markdown",
   "metadata": {},
   "source": [
    "# Assignment #1: Anagram Checker\n",
    "\n",
    "**Background**: Anagram Checker is a program that takes two words and determines if an anagram can be made from it. If so, the program will return `true`, otherwise `false`."
   ]
  },
  {
   "cell_type": "markdown",
   "metadata": {},
   "source": [
    "## Submission Information\n",
    "\n",
    "🚨 **Please review our [Assignment Submission Guide](https://github.com/UofT-DSI/onboarding/blob/main/onboarding_documents/submissions.md)** 🚨 for detailed instructions on how to format, branch, and submit your work. Following these guidelines is crucial for your submissions to be evaluated correctly.\n",
    "\n",
    "### Submission Parameters:\n",
    "* Submission Due Date: `11:59 PM - 05/05/2024`\n",
    "* The branch name for your repo should be: `assignment-1`\n",
    "* What to submit for this assignment:\n",
    "    * This Jupyter Notebook (assignment_1.ipynb) should be populated and should be the only change in your pull request.\n",
    "* What the pull request link should look like for this assignment: `https://github.com/FredyLRincon/python/pull/<pr_id>`\n",
    "    * Open a private window in your browser. Copy and paste the link to your pull request into the address bar. Make sure you can see your pull request properly. This helps the technical facilitator and learning support staff review your submission easily.\n",
    "\n",
    "Checklist:\n",
    "- [X] Created a branch with the correct naming convention.\n",
    "- [X] Ensured that the repository is public.\n",
    "- [X] Reviewed the PR description guidelines and adhered to them.\n",
    "- [X] Verify that the link is accessible in a private browser window.\n",
    "\n",
    "If you encounter any difficulties or have questions, please don't hesitate to reach out to our team via our Slack at `#cohort-3-help`. Our Technical Facilitators and Learning Support staff are here to help you navigate any challenges."
   ]
  },
  {
   "cell_type": "markdown",
   "metadata": {},
   "source": [
    "### Part 1: Building the base Anagram Checker\n",
    "\n",
    "Given two valid strings, check to see if they are anagrams of each other. If it is, return `True`, else `False`. For this part, we can assume that uppercase letters are the same as if it was a lowercase character.\n",
    "\n",
    "Examples of anagrams:\n",
    "* Slient and Listen\n",
    "* Night and Think\n",
    "\n",
    "Example outputs:\n",
    "```python\n",
    "anagram_checker(\"Slient\", \"listen\") # True\n",
    "anagram_checker(\"Slient\", \"Night\") # False\n",
    "anagram_checker(\"night\", \"Thing\") # True\n",
    "```"
   ]
  },
  {
   "cell_type": "code",
   "execution_count": 1,
   "metadata": {},
   "outputs": [
    {
     "name": "stdout",
     "output_type": "stream",
     "text": [
      "Cleaned words : 'slient' and 'listen'\n",
      "Sorted letters: ['e', 'i', 'l', 'n', 's', 't'] and ['e', 'i', 'l', 'n', 's', 't']\n",
      "Are the two words anagrams? True\n"
     ]
    },
    {
     "data": {
      "text/plain": [
       "True"
      ]
     },
     "execution_count": 1,
     "metadata": {},
     "output_type": "execute_result"
    }
   ],
   "source": [
    "# This is a function, which we will learn more about next week. For testing purposes, we will write our code in the function\n",
    "def anagram_checker(word_a, word_b):\n",
    "  # Your code here\n",
    "\n",
    "   # Clean both words by removing spaces and converting to lowercase\n",
    "    word_a_clean = word_a.replace(\" \", \"\").lower()\n",
    "    word_b_clean = word_b.replace(\" \", \"\").lower()\n",
    "    print(f\"Cleaned words : '{word_a_clean}' and '{word_b_clean}'\")\n",
    "\n",
    "    # Sort the letters of both words\n",
    "    sorted_word_a = sorted(word_a_clean)\n",
    "    sorted_word_b = sorted(word_b_clean)\n",
    "    print(f\"Sorted letters: {sorted_word_a} and {sorted_word_b}\")\n",
    "\n",
    "    # Check if the sorted letters of both words match\n",
    "    are_anagrams = sorted_word_a == sorted_word_b\n",
    "    print(\"Are the two words anagrams?\", are_anagrams)\n",
    "\n",
    "    return are_anagrams\n",
    "\n",
    "# Run your code to check using the words below:\n",
    "anagram_checker(\"Slient\", \"listen\")"
   ]
  },
  {
   "cell_type": "code",
   "execution_count": 2,
   "metadata": {},
   "outputs": [
    {
     "name": "stdout",
     "output_type": "stream",
     "text": [
      "Cleaned words : 'slient' and 'night'\n",
      "Sorted letters: ['e', 'i', 'l', 'n', 's', 't'] and ['g', 'h', 'i', 'n', 't']\n",
      "Are the two words anagrams? False\n"
     ]
    },
    {
     "data": {
      "text/plain": [
       "False"
      ]
     },
     "execution_count": 2,
     "metadata": {},
     "output_type": "execute_result"
    }
   ],
   "source": [
    "anagram_checker(\"Slient\", \"Night\")"
   ]
  },
  {
   "cell_type": "code",
   "execution_count": 3,
   "metadata": {},
   "outputs": [
    {
     "name": "stdout",
     "output_type": "stream",
     "text": [
      "Cleaned words : 'night' and 'thing'\n",
      "Sorted letters: ['g', 'h', 'i', 'n', 't'] and ['g', 'h', 'i', 'n', 't']\n",
      "Are the two words anagrams? True\n"
     ]
    },
    {
     "data": {
      "text/plain": [
       "True"
      ]
     },
     "execution_count": 3,
     "metadata": {},
     "output_type": "execute_result"
    }
   ],
   "source": [
    "anagram_checker(\"night\", \"Thing\")"
   ]
  },
  {
   "cell_type": "markdown",
   "metadata": {},
   "source": [
    "### Part 2: Expanding the functionality of the Anagram Checker\n",
    "\n",
    "Using your existing and functional anagram checker, let's add a boolean option called `is_case_sensitive`, which will return `True` or `False` based on if the two compared words are anagrams and if we are checking for case sensitivity."
   ]
  },
  {
   "cell_type": "code",
   "execution_count": 4,
   "metadata": {},
   "outputs": [
    {
     "name": "stdout",
     "output_type": "stream",
     "text": [
      "Cleaned words: 'slient' and 'listen'\n",
      "Sorted letters: ['e', 'i', 'l', 'n', 's', 't'] and ['e', 'i', 'l', 'n', 's', 't']\n",
      "Are the two words anagrams? True\n"
     ]
    },
    {
     "data": {
      "text/plain": [
       "True"
      ]
     },
     "execution_count": 4,
     "metadata": {},
     "output_type": "execute_result"
    }
   ],
   "source": [
    "def anagram_checker(word_a, word_b, is_case_sensitive):\n",
    "  # Modify your existing code here\n",
    "\n",
    "    # Decide if the function should consider upper and lower case letters as different\n",
    "\n",
    "    if is_case_sensitive == True:\n",
    "\n",
    "        # If case sensitive, remove spaces from the words, but keep the case of letters as they are\n",
    "    \n",
    "        word_a_clean = word_a.replace(\" \", \"\")\n",
    "        word_b_clean = word_b.replace(\" \", \"\")\n",
    "\n",
    "    # If not case sensitive, convert words to lower case and remove spaces, making them easier to compare\n",
    "    else:\n",
    "        word_a_clean = word_a.lower().replace(\" \", \"\")\n",
    "        word_b_clean = word_b.lower().replace(\" \", \"\")\n",
    "\n",
    "    print(f\"Cleaned words: '{word_a_clean}' and '{word_b_clean}'\")\n",
    "\n",
    "    # Sort the letters of both words\n",
    "    sorted_word_a = sorted(word_a_clean)\n",
    "    sorted_word_b = sorted(word_b_clean)\n",
    "    print(f\"Sorted letters: {sorted_word_a} and {sorted_word_b}\")\n",
    "\n",
    "    # Check if the sorted letters of both words match\n",
    "    are_anagrams = sorted_word_a == sorted_word_b\n",
    "    print(\"Are the two words anagrams?\", are_anagrams)\n",
    "\n",
    "    return are_anagrams\n",
    "\n",
    "# Run your code to check using the words below:\n",
    "anagram_checker(\"Slient\", \"listen\", False) # True"
   ]
  },
  {
   "cell_type": "code",
   "execution_count": 5,
   "metadata": {},
   "outputs": [
    {
     "name": "stdout",
     "output_type": "stream",
     "text": [
      "Cleaned words: 'Slient' and 'Listen'\n",
      "Sorted letters: ['S', 'e', 'i', 'l', 'n', 't'] and ['L', 'e', 'i', 'n', 's', 't']\n",
      "Are the two words anagrams? False\n"
     ]
    },
    {
     "data": {
      "text/plain": [
       "False"
      ]
     },
     "execution_count": 5,
     "metadata": {},
     "output_type": "execute_result"
    }
   ],
   "source": [
    "anagram_checker(\"Slient\", \"Listen\", True) # False"
   ]
  },
  {
   "cell_type": "code",
   "execution_count": 6,
   "metadata": {},
   "outputs": [
    {
     "name": "stdout",
     "output_type": "stream",
     "text": [
      "Cleaned words: 'TheEyes' and 'TheySee'\n",
      "Sorted letters: ['E', 'T', 'e', 'e', 'h', 's', 'y'] and ['S', 'T', 'e', 'e', 'e', 'h', 'y']\n",
      "Are the two words anagrams? False\n",
      "Cleaned words: 'theeyes' and 'theysee'\n",
      "Sorted letters: ['e', 'e', 'e', 'h', 's', 't', 'y'] and ['e', 'e', 'e', 'h', 's', 't', 'y']\n",
      "Are the two words anagrams? True\n"
     ]
    },
    {
     "data": {
      "text/plain": [
       "True"
      ]
     },
     "execution_count": 6,
     "metadata": {},
     "output_type": "execute_result"
    }
   ],
   "source": [
    "# Bonus\n",
    "# Example with spaces and case sensitive \n",
    "anagram_checker(\"The Eyes\",\"They See\", True) #False\n",
    "\n",
    "# Example with spaces and not case sensitive \n",
    "anagram_checker(\"The Eyes\",\"They See\", False) #True\n"
   ]
  },
  {
   "cell_type": "markdown",
   "metadata": {},
   "source": [
    "|Criteria|Pass|Fail|\n",
    "|---|---|---|\n",
    "|Code Execution|All code cells execute without errors.|Any code cell produces an error upon execution.|\n",
    "|Code Quality|Code is well-organized, concise, and includes necessary comments for clarity. E.g. Great use of variable names.|Code is unorganized, verbose, or lacks necessary comments. E.g. Single character variable names outside of loops.|"
   ]
  }
 ],
 "metadata": {
  "kernelspec": {
   "display_name": "new-learner",
   "language": "python",
   "name": "python3"
  },
  "language_info": {
   "codemirror_mode": {
    "name": "ipython",
    "version": 3
   },
   "file_extension": ".py",
   "mimetype": "text/x-python",
   "name": "python",
   "nbconvert_exporter": "python",
   "pygments_lexer": "ipython3",
   "version": "3.11.8"
  }
 },
 "nbformat": 4,
 "nbformat_minor": 2
}
